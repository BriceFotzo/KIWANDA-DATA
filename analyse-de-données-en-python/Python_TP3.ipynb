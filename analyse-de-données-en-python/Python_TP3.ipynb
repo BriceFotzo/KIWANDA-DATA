{
 "cells": [
  {
   "cell_type": "markdown",
   "metadata": {
    "id": "GiorarXNAeFJ"
   },
   "source": [
    "**Exercice 1**<br>\r\n",
    "L’objectif de cet exercice est d’analyser les prix des Diamonds en fonction de leurs\r\n",
    "caractéristiques. Nous disposons d’un fichier diamonds.csv dont la description est la suivante\r\n",
    "(https://ggplot2.tidyverse.org/reference/diamonds.html#format )\r\n",
    "\r\n",
    "\r\n",
    "*   Price : price in US dollars (\\$326--\\$18,823)\r\n",
    "*   Carat : weight of the diamond (0.2--5.01)\r\n",
    "*   Cut : quality of the cut (Fair, Good, Very Good, Premium, Ideal)\r\n",
    "*   Color : diamond colour, from J (worst) to D (best)\r\n",
    "*   Clarity : a measurement of how clear the diamond is (I1 (worst), SI2, SI1, VS2, VS1, VVS2, VVS1,\r\n",
    "IF (best))\r\n",
    "*   x : length in mm (0--10.74)\r\n",
    "*   y : width in mm (0--58.9)\r\n",
    "*   z : depth in mm (0--31.8)\r\n",
    "*   depth : total depth percentage = z / mean(x, y) = 2 * z / (x + y) (43--79)\r\n",
    "*   table : width of top of diamond relative to widest point (43--95)\r\n",
    "Analyser les données suivant le déroulement classique\r\n",
    "1. Description de chaque variable\r\n",
    "2. Analyse de chaque variable\r\n",
    "3. Recherche des liens entre le prix et les autres variables"
   ]
  }
 ],
 "metadata": {
  "colab": {
   "name": "Python_TP3.ipynb",
   "provenance": []
  },
  "kernelspec": {
   "display_name": "Python 3",
   "language": "python",
   "name": "python3"
  },
  "language_info": {
   "codemirror_mode": {
    "name": "ipython",
    "version": 3
   },
   "file_extension": ".py",
   "mimetype": "text/x-python",
   "name": "python",
   "nbconvert_exporter": "python",
   "pygments_lexer": "ipython3",
   "version": "3.8.3"
  }
 },
 "nbformat": 4,
 "nbformat_minor": 4
}
