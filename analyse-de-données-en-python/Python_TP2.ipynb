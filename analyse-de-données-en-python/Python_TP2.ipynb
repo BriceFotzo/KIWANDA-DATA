{
  "nbformat": 4,
  "nbformat_minor": 0,
  "metadata": {
    "colab": {
      "name": "Python_TP2.ipynb",
      "provenance": []
    },
    "kernelspec": {
      "name": "python3",
      "display_name": "Python 3"
    }
  },
  "cells": [
    {
      "cell_type": "markdown",
      "metadata": {
        "id": "ceNP01dJsZ_m"
      },
      "source": [
        "**Exercice 1 : Iris**<br>\r\n",
        "La collection des iris de Fisher est probablement l’une des plus célèbres dans le domaine de la\r\n",
        "reconnaissance de formes. Bien qu’ancienne, elle continue de faire référence dans le domaine.\r\n",
        "Le corpus consigne des mesures biométriques relevées sur des échantillons végétaux de type\r\n",
        "iris :\r\n",
        "\r\n",
        "\r\n",
        "*   longueur du sépale (en centimètres)\r\n",
        "*   largeur du sépale (en centimètres)\r\n",
        "*   longueur du pétale (en centimètres)\r\n",
        "*   largeur du pétale (en centimètres)\r\n",
        "\r\n",
        "Les 150 individus de la base sont répartis en trois classes équilibrées (50 individus dans\r\n",
        "chaque catégorie) correspondant à trois espèces florales : iris setosa, iris versicolor et iris\r\n",
        "virginica. La classe setosa est linéairement séparable des deux autres, alors que versicolor et\r\n",
        "virginica ne le sont pas entre elles.\r\n",
        "Le fichier Iris.data contient ces informations.\r\n",
        "1. Télécharger le fichier et importer les lignes du fichier Iris.data\r\n",
        "2. A partir de la liste de chaînes obtenue, créer une liste de 151 listes. Chaque sous-liste\r\n",
        "contiendra les 5 informations présentes sur chaque ligne (séparées par des \";\").\r\n",
        "Supprimer les quotes (\"'\") et le caractère de fin de ligne (\"\\n\").\r\n",
        "3. Créer une fonction permettant de transformer une chaîne en réel\r\n",
        " si cette chaîne n'est pas transformable, renvoyer la telle quelle.\r\n",
        " Exemple : f(1.234) renverra 1.234, mais f(\"rien\") renverra \"rien\"\r\n",
        "4. Créer une liste de 150 dictionnaires, chaque dictionnaire sera un iris, avec des champs\r\n",
        "nommés. Les noms des variables sont sur la première ligne de la liste précédemment\r\n",
        "créée.\r\n",
        "5. Calculer pour chaque iris le rapport entre la surface d'un pétale et la surface d'un\r\n",
        "sépale. La surface de chaque dépend uniquement du produit de la largeur et de la\r\n",
        "longueur. On fera donc le rapport entre les deux produits.\r\n",
        "\r\n",
        "**N.B:**\r\n",
        "\r\n",
        "*   L'utilisation de pandas (https://pandas.pydata.org/docs/getting_started/intro_tutorials/) est conseillée dans cet exercice. \r\n",
        "*   Ne pas utiliser une seule cellule pour toutes les questions\r\n",
        "\r\n",
        "\r\n"
      ]
    }
  ]
}