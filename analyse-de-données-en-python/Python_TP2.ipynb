{
 "cells": [
  {
   "cell_type": "markdown",
   "metadata": {
    "id": "ceNP01dJsZ_m"
   },
   "source": [
    "**Exercice 1 : Iris**<br>\n",
    "La collection des iris de Fisher est probablement l’une des plus célèbres dans le domaine de la\n",
    "reconnaissance de formes. Bien qu’ancienne, elle continue de faire référence dans le domaine.\n",
    "Le corpus consigne des mesures biométriques relevées sur des échantillons végétaux de type\n",
    "iris :\n",
    "\n",
    "\n",
    "*   longueur du sépale (en centimètres)\n",
    "*   largeur du sépale (en centimètres)\n",
    "*   longueur du pétale (en centimètres)\n",
    "*   largeur du pétale (en centimètres)\n",
    "\n",
    "Les 150 individus de la base sont répartis en trois classes équilibrées (50 individus dans\n",
    "chaque catégorie) correspondant à trois espèces florales : iris setosa, iris versicolor et iris\n",
    "virginica. La classe setosa est linéairement séparable des deux autres, alors que versicolor et\n",
    "virginica ne le sont pas entre elles.\n",
    "Le fichier Iris.data contient ces informations.\n",
    "1. Télécharger le fichier et importer les lignes du fichier Iris.data\n",
    "2. A partir de la liste de chaînes obtenue, créer une liste de 151 listes. Chaque sous-liste\n",
    "contiendra les 5 informations présentes sur chaque ligne (séparées par des \";\").\n",
    "Supprimer les quotes (\"'\") et le caractère de fin de ligne (\"\\n\").\n",
    "3. Créer une fonction permettant de transformer une chaîne en réel\n",
    " si cette chaîne n'est pas transformable, renvoyer la telle quelle.\n",
    " Exemple : f(1.234) renverra 1.234, mais f(\"rien\") renverra \"rien\"\n",
    "4. Créer une liste de 150 dictionnaires, chaque dictionnaire sera un iris, avec des champs\n",
    "nommés. Les noms des variables sont sur la première ligne de la liste précédemment\n",
    "créée.\n",
    "5. Calculer pour chaque iris le rapport entre la surface d'un pétale et la surface d'un\n",
    "sépale. La surface de chaque dépend uniquement du produit de la largeur et de la\n",
    "longueur. On fera donc le rapport entre les deux produits.\n",
    "6. Créer une sous-liste ne contenant que les iris setosa.\n",
    "7. Calculer la moyenne de chaque variable.\n",
    "8. Calculer la moyenne de chaque variable pour chaque espèce.\n",
    "9. Conclusion ?\n",
    "\n",
    "\n",
    "**N.B:**\n",
    "\n",
    "*   L'utilisation de pandas (https://pandas.pydata.org/docs/getting_started/intro_tutorials/) est conseillée dans cet exercice. \n",
    "*   Ne pas utiliser une seule cellule pour toutes les questions\n",
    "\n",
    "\n",
    "llule pour toutes les questions\r\n",
    "\r\n",
    "\r\n"
   ]
  },
  {
   "cell_type": "code",
   "execution_count": null,
   "metadata": {},
   "outputs": [],
   "source": []
  }
 ],
 "metadata": {
  "colab": {
   "name": "Python_TP2.ipynb",
   "provenance": []
  },
  "kernelspec": {
   "display_name": "Python 3",
   "language": "python",
   "name": "python3"
  },
  "language_info": {
   "codemirror_mode": {
    "name": "ipython",
    "version": 3
   },
   "file_extension": ".py",
   "mimetype": "text/x-python",
   "name": "python",
   "nbconvert_exporter": "python",
   "pygments_lexer": "ipython3",
   "version": "3.8.3"
  }
 },
 "nbformat": 4,
 "nbformat_minor": 4
}
