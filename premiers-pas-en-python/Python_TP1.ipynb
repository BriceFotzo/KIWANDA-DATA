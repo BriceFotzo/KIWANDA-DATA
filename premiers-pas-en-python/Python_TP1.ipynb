{
  "nbformat": 4,
  "nbformat_minor": 0,
  "metadata": {
    "colab": {
      "name": "Python-TP1.ipynb",
      "provenance": []
    },
    "kernelspec": {
      "name": "python3",
      "display_name": "Python 3"
    }
  },
  "cells": [
    {
      "cell_type": "markdown",
      "metadata": {
        "id": "lPaOjvP57Wsv"
      },
      "source": [
        "# Les bases de python: TP1"
      ]
    },
    {
      "cell_type": "markdown",
      "metadata": {
        "id": "c4Ksxd-k7mlJ"
      },
      "source": [
        "Dans ce TP il est question de se familiariser avec l'utilisation pour python. Ce [lien](https://learnxinyminutes.com/docs/python/) vous donne accès aux syntaxe de base du langage. Vous pourrez vous en servir pour réaliser le TP. "
      ]
    },
    {
      "cell_type": "markdown",
      "metadata": {
        "id": "-J_NnsuvEjSd"
      },
      "source": [
        "<b>Exercice 1: les notions basiques de python</b>\r\n",
        "<br>\r\n",
        "\r\n",
        "\r\n",
        "\r\n",
        "1.   Tester l’instruction d’affichage de python : afficher un nombre, une chaine de caractères une variable\r\n",
        "2.   Ecrire une boucle qui compte et affiche les nombres jusqu’à 50 en utilisant (la boucle for ensuite la boucle while)\r\n",
        "3.   Ecrire un script python qui dessine un carré plein ensuite vide. Idem pour un triangle.\r\n",
        "4.   Réaliser les opérations suivantes :\r\n",
        "\r\n",
        "      *   Créer une liste vide\r\n",
        "      *   Ajouter des éléments à cette liste\r\n",
        "      *   Afficher la longueur de la liste\r\n",
        "      *   Modifier la liste en supprimant un élément et en ajoutant d’autres\r\n",
        "      *   Afficher la liste en utilisant une boucle\r\n",
        "\r\n",
        "\r\n"
      ]
    },
    {
      "cell_type": "code",
      "metadata": {
        "id": "B3Nue6-g690n"
      },
      "source": [
        "#Exercice 1: Rédigez votre code à partir d'ici\r\n",
        "#Exemple question 1:\r\n",
        "# Question 1: Si je décide d'afficher 20 j'entre la ligne suivante\r\n",
        "print(20)"
      ],
      "execution_count": null,
      "outputs": []
    },
    {
      "cell_type": "markdown",
      "metadata": {
        "id": "7xsqsHo0Gh1u"
      },
      "source": [
        "**Exercice 2**<br>\r\n",
        "Définissez une fonction indexMax(liste) qui renvoie l’index de l’élément ayant la valeur la plus élevée dans la liste transmise en argument.\r\n"
      ]
    },
    {
      "cell_type": "code",
      "metadata": {
        "id": "tXMBR7bs7FMa"
      },
      "source": [
        "#Exercice 2: Rédigez votre code à partir d'ici"
      ],
      "execution_count": null,
      "outputs": []
    },
    {
      "cell_type": "markdown",
      "metadata": {
        "id": "FnfVIf8k1RrA"
      },
      "source": [
        "**Exercice 3** <br>\r\n",
        "Définissez une fonction trouverElementMaxDe(liste,debut,fin) qui renvoie l’élément ayant la plus grande valeur dans la liste transmise. Les deux arguments debut et fin indiqueront les indices entre lesquels doit s’exercer la recherche.\r\n"
      ]
    },
    {
      "cell_type": "code",
      "metadata": {
        "id": "v93Ukuz37Jqq"
      },
      "source": [
        "#Exercice 3: Rédigez votre code à partir d'ici"
      ],
      "execution_count": null,
      "outputs": []
    }
  ]
}