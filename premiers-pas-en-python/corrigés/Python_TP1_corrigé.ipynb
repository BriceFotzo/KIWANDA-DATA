{
  "nbformat": 4,
  "nbformat_minor": 0,
  "metadata": {
    "colab": {
      "name": "Python-TP1-corrigé.ipynb",
      "provenance": []
    },
    "kernelspec": {
      "name": "python3",
      "display_name": "Python 3"
    }
  },
  "cells": [
    {
      "cell_type": "markdown",
      "metadata": {
        "id": "lPaOjvP57Wsv"
      },
      "source": [
        "# Les bases de python: TP1"
      ]
    },
    {
      "cell_type": "markdown",
      "metadata": {
        "id": "c4Ksxd-k7mlJ"
      },
      "source": [
        "Dans ce TP il est question de se familiariser avec l'utilisation pour python. Ce [lien](https://learnxinyminutes.com/docs/python/) vous donne accès aux syntaxe de base du langage. Vous pourrez vous en servir pour réaliser le TP. "
      ]
    },
    {
      "cell_type": "markdown",
      "metadata": {
        "id": "-J_NnsuvEjSd"
      },
      "source": [
        "<b>Exercice 1: les notions basiques de python</b>\r\n",
        "<br>\r\n",
        "\r\n",
        "\r\n",
        "\r\n",
        "1.   Tester l’instruction d’affichage de python : afficher un nombre, une chaine de caractères une variable\r\n",
        "2.   Ecrire une boucle qui compte et affiche les nombres jusqu’à 50 en utilisant (la boucle for ensuite la boucle while)\r\n",
        "3.   Ecrire un script python qui dessine un carré plein ensuite vide. Idem pour un triangle.\r\n",
        "4.   Réaliser les opérations suivantes :\r\n",
        "\r\n",
        "      *   Créer une liste vide\r\n",
        "      *   Ajouter des éléments à cette liste\r\n",
        "      *   Afficher la longueur de la liste\r\n",
        "      *   Modifier la liste en supprimant un élément et en ajoutant d’autres\r\n",
        "      *   Afficher la liste en utilisant une boucle\r\n",
        "\r\n",
        "\r\n"
      ]
    },
    {
      "cell_type": "code",
      "metadata": {
        "id": "B3Nue6-g690n",
        "colab": {
          "base_uri": "https://localhost:8080/"
        },
        "outputId": "f69c213e-a1d5-4945-b5b6-1e6f7a8f27c8"
      },
      "source": [
        "#Exercice 1: Rédigez votre code à partir d'ici\r\n",
        "#Exemple question 1:\r\n",
        "# Question 1: Si je décide d'afficher 20 j'entre la ligne suivante\r\n",
        "\r\n",
        "#saisie de la taille des carrés  \r\n",
        "taille = int(input(\"Taille du carré (nombre d'étoiles par côté)  : \"))\r\n",
        "print()\r\n",
        "\r\n",
        "########################################################\r\n",
        "# CARRE PLEIN \r\n",
        "########################################################\r\n",
        "print(\"*****************CARRE VIDE*******************\")\r\n",
        "for i in range(taille):\r\n",
        "    for i in range(taille):\r\n",
        "        print('*', end = '  ')\r\n",
        "    print()\r\n",
        "\r\n",
        "\r\n",
        "########################################################\r\n",
        "# CARRE VIDE \r\n",
        "########################################################\r\n",
        "print(\"*****************CARRE PLEIN*******************\")\r\n",
        "for i in range(taille) : \r\n",
        "    for j in range(taille) : \r\n",
        "        if (i == 0 or i == taille-1 or\r\n",
        "            j == 0 or j == taille-1) : \r\n",
        "            print(\"*\", end=\"  \")             \r\n",
        "        else : \r\n",
        "            print(\" \", end=\"  \")             \r\n",
        "      \r\n",
        "    print() \r\n",
        "\r\n",
        "########################################################\r\n",
        "# RIANGLE\r\n",
        "########################################################\r\n",
        "print(\"*****************TRIANGLE*******************\")\r\n",
        "\r\n",
        "lignes = int(input(\"Nombre de lignes:\"))  \r\n",
        "# espace à mettre avant les étoiles\r\n",
        "espaces = 2 * lignes - 2   \r\n",
        "for i in range(lignes):  \r\n",
        "    for j in range(espaces):  \r\n",
        "        # afficher les espaces\r\n",
        "        print(end=\" \")  \r\n",
        "    # plus on avance plus on diminue l'espace avant les étoiles\r\n",
        "    espaces = espaces - 1   \r\n",
        "    for j in range(i + 1): \r\n",
        "        # afficher les étoiles \r\n",
        "        print(\"* \", end=\"\")  \r\n",
        "    print(\"\")  "
      ],
      "execution_count": 52,
      "outputs": [
        {
          "output_type": "stream",
          "text": [
            "Taille du carré (nombre d'étoiles par côté)  : 5\n",
            "\n",
            "*****************CARRE VIDE*******************\n",
            "*  *  *  *  *  \n",
            "*  *  *  *  *  \n",
            "*  *  *  *  *  \n",
            "*  *  *  *  *  \n",
            "*  *  *  *  *  \n",
            "*****************CARRE PLEIN*******************\n",
            "*  *  *  *  *  \n",
            "*           *  \n",
            "*           *  \n",
            "*           *  \n",
            "*  *  *  *  *  \n",
            "*****************TRIANGLE*******************\n",
            "Nombre de lignes:5\n",
            "        * \n",
            "       * * \n",
            "      * * * \n",
            "     * * * * \n",
            "    * * * * * \n"
          ],
          "name": "stdout"
        }
      ]
    },
    {
      "cell_type": "markdown",
      "metadata": {
        "id": "7xsqsHo0Gh1u"
      },
      "source": [
        "**Exercice 2**<br>\r\n",
        "Définissez une fonction indexMax(liste) qui renvoie l’index de l’élément ayant la valeur la plus élevée dans la liste transmise en argument.\r\n"
      ]
    },
    {
      "cell_type": "code",
      "metadata": {
        "id": "tXMBR7bs7FMa",
        "colab": {
          "base_uri": "https://localhost:8080/"
        },
        "outputId": "755f02ca-dacb-4f8f-af62-476f97c7624c"
      },
      "source": [
        "#Exercice 2: Rédigez votre code à partir d'ici\r\n",
        "ma_liste=[100,0,20,45,30]\r\n",
        "def indexMax(liste):\r\n",
        "    return liste.index(max(liste))\r\n",
        "\r\n",
        "indexMax(ma_liste)"
      ],
      "execution_count": 53,
      "outputs": [
        {
          "output_type": "execute_result",
          "data": {
            "text/plain": [
              "0"
            ]
          },
          "metadata": {
            "tags": []
          },
          "execution_count": 53
        }
      ]
    },
    {
      "cell_type": "markdown",
      "metadata": {
        "id": "FnfVIf8k1RrA"
      },
      "source": [
        "**Exercice 3** <br>\r\n",
        "Définissez une fonction trouverElementMaxDe(liste,debut,fin) qui renvoie l’élément ayant la plus grande valeur dans la liste transmise. Les deux arguments debut et fin indiqueront les indices entre lesquels doit s’exercer la recherche.\r\n"
      ]
    },
    {
      "cell_type": "code",
      "metadata": {
        "id": "v93Ukuz37Jqq",
        "colab": {
          "base_uri": "https://localhost:8080/"
        },
        "outputId": "682b023f-51fc-46d3-9780-ce7cb9c8dcd9"
      },
      "source": [
        "#Exercice 3: Rédigez votre code à partir d'ici\r\n",
        "def trouverElementMaxDe(liste,debut,fin):\r\n",
        "        return max(liste[debut:fin+1])\r\n",
        "\r\n",
        "trouverElementMaxDe(ma_liste,2,4)"
      ],
      "execution_count": 54,
      "outputs": [
        {
          "output_type": "execute_result",
          "data": {
            "text/plain": [
              "45"
            ]
          },
          "metadata": {
            "tags": []
          },
          "execution_count": 54
        }
      ]
    }
  ]
}